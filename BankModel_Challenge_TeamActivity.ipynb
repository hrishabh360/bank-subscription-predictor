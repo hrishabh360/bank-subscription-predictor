{
 "cells": [
  {
   "cell_type": "markdown",
   "id": "800a861e",
   "metadata": {},
   "source": [
    "# 🧠 Team Class Activity: Improve & Deploy the Bank Model\n",
    "\n",
    "Welcome to the Bank Model Challenge! In this collaborative, hands-on session, your team will enhance a machine learning model's accuracy and deploy it in a fun and interactive web application.\n",
    "\n",
    "## 🎯 Objectives:\n",
    "- Improve the predictive accuracy of a baseline model (starting at 87%)\n",
    "- Modify the web application interface\n",
    "- Compete for extra credit based on innovation and model performance\n"
   ]
  },
  {
   "cell_type": "markdown",
   "id": "498b8837",
   "metadata": {},
   "source": [
    "## ✅ Challenge Instructions\n",
    "\n",
    "### Challenge 0: Deploy the Model (already completed)\n",
    "Refer to the previous session’s instructions to ensure your Flask deployment is running.\n",
    "\n",
    "---\n",
    "\n",
    "### Challenge 1: Improve the Accuracy\n",
    "\n",
    "1. **Review the baseline model in this notebook**.\n",
    "2. **Current accuracy: `0.8707`**\n",
    "3. Try:\n",
    "   - Trying a different ML model (e.g., XGBoost, Logistic Regression)\n",
    "   - Feature engineering or dimensionality reduction\n",
    "   - Hyperparameter tuning\n",
    "4. **Submit your improved model** as a notebook with explanations.\n",
    "5. **Modify the Bank App’s HTML** to reflect new content or styling.\n",
    "\n",
    "---\n",
    "\n",
    "### 🏆 Scoring Breakdown\n",
    "| Task                        | Points |\n",
    "|-----------------------------|--------|\n",
    "| App Customization           | 3 pts  |\n",
    "| Accuracy > 0.8707           | 3 pts  |\n",
    "| Best Accuracy in Class      | 2 pts  |\n",
    "\n",
    "💡 Teams that beat the benchmark get bonus points!"
   ]
  },
  {
   "cell_type": "code",
   "execution_count": 10,
   "id": "5e0e79a9",
   "metadata": {},
   "outputs": [
    {
     "name": "stdout",
     "output_type": "stream",
     "text": [
      "✅ Baseline Accuracy: 0.8662\n"
     ]
    }
   ],
   "source": [
    "# Import Libraries\n",
    "import pandas as pd\n",
    "from sklearn.preprocessing import StandardScaler, OneHotEncoder\n",
    "from sklearn.ensemble import RandomForestClassifier\n",
    "from sklearn.metrics import accuracy_score\n",
    "from sklearn.model_selection import train_test_split\n",
    "\n",
    "# Load Dataset\n",
    "url = \"https://raw.githubusercontent.com/LinkedInLearning/dsm-bank-model-2870047/main/bankData/bank.csv\"\n",
    "df = pd.read_csv(url)\n",
    "\n",
    "# Drop campaign columns\n",
    "df.drop(df.iloc[:, 8:16], inplace=True, axis=1)\n",
    "\n",
    "# Separate features and target\n",
    "X_categoric = df.iloc[:, [1, 2, 3, 4, 6, 7]].values\n",
    "X_numeric = df.iloc[:, [0, 5]].values\n",
    "y = df.iloc[:, -1].values\n",
    "\n",
    "# Encode categoric features\n",
    "ohe = OneHotEncoder()\n",
    "categoric_data = ohe.fit_transform(X_categoric).toarray()\n",
    "# categoric_df = pd.DataFrame(categoric_data)\n",
    "categoric_df = pd.DataFrame(categoric_data, columns=[f\"cat_{i}\" for i in range(categoric_data.shape[1])])\n",
    "\n",
    "\n",
    "# Standardize numeric features\n",
    "scaler = StandardScaler()\n",
    "numeric_df = pd.DataFrame(scaler.fit_transform(X_numeric), columns=['age', 'balance'])\n",
    "\n",
    "# Combine features\n",
    "X_final = pd.concat([numeric_df, categoric_df], axis=1)\n",
    "\n",
    "# Train/Test Split\n",
    "X_train, X_test, y_train, y_test = train_test_split(X_final, y, test_size=0.2, random_state=42)\n",
    "\n",
    "# Train Model\n",
    "rfc = RandomForestClassifier(n_estimators=100)\n",
    "rfc.fit(X_train, y_train)\n",
    "\n",
    "# Predict & Score\n",
    "y_pred = rfc.predict(X_test)\n",
    "accuracy = accuracy_score(y_test, y_pred)\n",
    "print(f\"✅ Baseline Accuracy: {accuracy:.4f}\")"
   ]
  },
  {
   "cell_type": "code",
   "execution_count": 11,
   "id": "0220620e",
   "metadata": {},
   "outputs": [
    {
     "name": "stdout",
     "output_type": "stream",
     "text": [
      "Fitting 3 folds for each of 20 candidates, totalling 60 fits\n",
      "🚀 Improved Accuracy: 0.8794\n"
     ]
    }
   ],
   "source": [
    "from sklearn.model_selection import RandomizedSearchCV\n",
    "from sklearn.ensemble import RandomForestClassifier\n",
    "\n",
    "# Define parameter grid\n",
    "param_dist = {\n",
    "    'n_estimators': [100, 200, 300],\n",
    "    'max_depth': [None, 10, 20, 30],\n",
    "    'min_samples_split': [2, 5, 10],\n",
    "    'min_samples_leaf': [1, 2, 4],\n",
    "    'bootstrap': [True, False]\n",
    "}\n",
    "\n",
    "# Initialize base model\n",
    "rfc = RandomForestClassifier(random_state=42)\n",
    "\n",
    "# Randomized search\n",
    "rfc_random = RandomizedSearchCV(estimator=rfc, param_distributions=param_dist,\n",
    "                                 n_iter=20, cv=3, verbose=1, random_state=42, n_jobs=-1)\n",
    "\n",
    "# Fit on training data\n",
    "rfc_random.fit(X_train, y_train)\n",
    "\n",
    "# Best model\n",
    "best_rfc = rfc_random.best_estimator_\n",
    "\n",
    "# Predict & Score\n",
    "y_pred = best_rfc.predict(X_test)\n",
    "accuracy = accuracy_score(y_test, y_pred)\n",
    "print(f\"🚀 Improved Accuracy: {accuracy:.4f}\")"
   ]
  },
  {
   "cell_type": "code",
   "execution_count": 12,
   "id": "7b38d7ba",
   "metadata": {},
   "outputs": [
    {
     "name": "stdout",
     "output_type": "stream",
     "text": [
      "✅ Model and preprocessors saved successfully.\n"
     ]
    }
   ],
   "source": [
    "import pickle\n",
    "\n",
    "# Save the model\n",
    "with open(\"model.pkl\", \"wb\") as f:\n",
    "    pickle.dump(rfc, f)\n",
    "\n",
    "# Optional: Save your scaler and encoder too if you need them in the Flask app\n",
    "with open(\"scaler.pkl\", \"wb\") as f:\n",
    "    pickle.dump(scaler, f)\n",
    "\n",
    "with open(\"encoder.pkl\", \"wb\") as f:\n",
    "    pickle.dump(ohe, f)\n",
    "\n",
    "print(\"✅ Model and preprocessors saved successfully.\")\n"
   ]
  },
  {
   "cell_type": "markdown",
   "id": "806de09d",
   "metadata": {},
   "source": [
    "## 📝 Submission Instructions\n",
    "\n",
    "Submit the following via Canvas:\n",
    "\n",
    "- ✅ This Jupyter notebook with your improved model and updated accuracy\n",
    "- ✅ A screenshot of your modified web app interface\n",
    "- ✅ Make sure your notebook is clean, commented, and explains your improvements\n"
   ]
  }
 ],
 "metadata": {
  "kernelspec": {
   "display_name": "base",
   "language": "python",
   "name": "python3"
  },
  "language_info": {
   "codemirror_mode": {
    "name": "ipython",
    "version": 3
   },
   "file_extension": ".py",
   "mimetype": "text/x-python",
   "name": "python",
   "nbconvert_exporter": "python",
   "pygments_lexer": "ipython3",
   "version": "3.12.4"
  }
 },
 "nbformat": 4,
 "nbformat_minor": 5
}
